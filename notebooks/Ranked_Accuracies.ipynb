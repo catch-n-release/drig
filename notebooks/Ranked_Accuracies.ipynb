{
 "cells": [
  {
   "cell_type": "markdown",
   "id": "consolidated-constitution",
   "metadata": {},
   "source": [
    "# RANK-1 & RANK-5 Accuracies"
   ]
  },
  {
   "cell_type": "markdown",
   "id": "turned-portuguese",
   "metadata": {},
   "source": [
    "#### Import Packages"
   ]
  },
  {
   "cell_type": "code",
   "execution_count": 2,
   "id": "correct-instrumentation",
   "metadata": {},
   "outputs": [],
   "source": [
    "from drig.utils import get_ranked_accuracies\n",
    "import h5py\n",
    "import pickle\n",
    "import numpy as np"
   ]
  },
  {
   "cell_type": "markdown",
   "id": "mighty-michigan",
   "metadata": {},
   "source": [
    "#### Load Logistic Regressor Trained on Caltech-101 & Caltech-101 VGG16 Feature File"
   ]
  },
  {
   "cell_type": "code",
   "execution_count": 6,
   "id": "informational-appraisal",
   "metadata": {},
   "outputs": [],
   "source": [
    "log_regressor_path=os.path.abspath(os.path.join(os.pardir,\"models/caltech101_tranfered.cpickle\"))\n",
    "features_dataset_path=os.path.abspath(os.path.join(os.pardir,\"datasets/101_ObjectCategories/vgg16_fetaure.hdf5\"))"
   ]
  },
  {
   "cell_type": "code",
   "execution_count": 7,
   "id": "awful-learning",
   "metadata": {},
   "outputs": [],
   "source": [
    "log_regressor_model=pickle.loads(open(log_regressor_path,\"rb\").read())\n",
    "features_dataset=h5py.File(features_dataset_path,mode=\"r\")"
   ]
  },
  {
   "cell_type": "markdown",
   "id": "chief-sullivan",
   "metadata": {},
   "source": [
    "#### Get Features & Labels"
   ]
  },
  {
   "cell_type": "code",
   "execution_count": 8,
   "id": "sealed-messaging",
   "metadata": {},
   "outputs": [],
   "source": [
    "data=features_dataset[\"features\"]\n",
    "labels=features_dataset[\"labels\"]"
   ]
  },
  {
   "cell_type": "markdown",
   "id": "increasing-explanation",
   "metadata": {},
   "source": [
    "#### Train Test Split"
   ]
  },
  {
   "cell_type": "code",
   "execution_count": 9,
   "id": "liberal-priority",
   "metadata": {},
   "outputs": [],
   "source": [
    "split_index=int(data.shape[0]*0.75)"
   ]
  },
  {
   "cell_type": "markdown",
   "id": "worth-lecture",
   "metadata": {},
   "source": [
    "#### Get Predictions"
   ]
  },
  {
   "cell_type": "code",
   "execution_count": 10,
   "id": "killing-wealth",
   "metadata": {},
   "outputs": [],
   "source": [
    "predictions=log_regressor_model.predict_proba(data[split_index:])"
   ]
  },
  {
   "cell_type": "markdown",
   "id": "nasty-works",
   "metadata": {},
   "source": [
    "#### Get Rank-1 & Rank-5 Accuracies"
   ]
  },
  {
   "cell_type": "code",
   "execution_count": 12,
   "id": "civil-glenn",
   "metadata": {},
   "outputs": [],
   "source": [
    "rank_1_accuracy, rank_5_accuracy=get_ranked_accuracies(predictions, labels[split_index:])"
   ]
  },
  {
   "cell_type": "code",
   "execution_count": 13,
   "id": "offensive-china",
   "metadata": {},
   "outputs": [
    {
     "data": {
      "text/plain": [
       "94.97695852534562"
      ]
     },
     "execution_count": 13,
     "metadata": {},
     "output_type": "execute_result"
    }
   ],
   "source": [
    "rank_1_accuracy"
   ]
  },
  {
   "cell_type": "code",
   "execution_count": 14,
   "id": "english-xerox",
   "metadata": {},
   "outputs": [
    {
     "data": {
      "text/plain": [
       "99.30875576036865"
      ]
     },
     "execution_count": 14,
     "metadata": {},
     "output_type": "execute_result"
    }
   ],
   "source": [
    "rank_5_accuracy"
   ]
  },
  {
   "cell_type": "code",
   "execution_count": 15,
   "id": "earlier-rotation",
   "metadata": {},
   "outputs": [],
   "source": [
    "features_dataset.close()"
   ]
  },
  {
   "cell_type": "code",
   "execution_count": null,
   "id": "worthy-naples",
   "metadata": {},
   "outputs": [],
   "source": []
  }
 ],
 "metadata": {
  "kernelspec": {
   "display_name": "Python 3",
   "language": "python",
   "name": "python3"
  },
  "language_info": {
   "codemirror_mode": {
    "name": "ipython",
    "version": 3
   },
   "file_extension": ".py",
   "mimetype": "text/x-python",
   "name": "python",
   "nbconvert_exporter": "python",
   "pygments_lexer": "ipython3",
   "version": "3.8.6"
  }
 },
 "nbformat": 4,
 "nbformat_minor": 5
}
