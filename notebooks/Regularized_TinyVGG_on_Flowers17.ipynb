{
 "cells": [
  {
   "cell_type": "code",
   "execution_count": 1,
   "id": "african-thumbnail",
   "metadata": {},
   "outputs": [],
   "source": [
    "import sys\n",
    "import os\n",
    "\n",
    "module_path = os.path.abspath(os.path.join('..'))\n",
    "if module_path not in sys.path:\n",
    "#     print(module_path)\n",
    "    sys.path.append(\"/Users/suyashsrivastava/\")"
   ]
  },
  {
   "cell_type": "markdown",
   "id": "greek-emerald",
   "metadata": {},
   "source": [
    "# Training TinyVGG on Flowers17 With Regularization To Improve Accuracy "
   ]
  },
  {
   "cell_type": "markdown",
   "id": "cultural-marijuana",
   "metadata": {},
   "source": [
    "#### Import Necessary Packages"
   ]
  },
  {
   "cell_type": "code",
   "execution_count": 41,
   "id": "piano-stopping",
   "metadata": {},
   "outputs": [],
   "source": [
    "from imutils import paths\n",
    "from drig.preprocessors.preprocessors import ImageToArrayPreprocessor, UniformAspectPreprocessor\n",
    "from drig.datasets.datasetloader import DatasetLoader\n",
    "from sklearn.preprocessing import LabelBinarizer\n",
    "from sklearn.model_selection import train_test_split\n",
    "from drig.networks.networks import TinyVGG\n",
    "from keras.optimizers import SGD\n",
    "from sklearn.metrics import classification_report\n",
    "from drig.utils import plot_training_metrics\n",
    "from keras.preprocessing.image import ImageDataGenerator\n",
    "import numpy as np"
   ]
  },
  {
   "cell_type": "markdown",
   "id": "convinced-ranking",
   "metadata": {},
   "source": [
    "#### Load Images"
   ]
  },
  {
   "cell_type": "code",
   "execution_count": 42,
   "id": "functioning-greenhouse",
   "metadata": {},
   "outputs": [],
   "source": [
    "image_paths=list(paths.list_images(\"../datasets/17flowers/\"))\n",
    "classes=[image_path.split(\"/\")[-2] for image_path in image_paths]\n",
    "classes=[str(label) for label in np.unique(classes)]"
   ]
  },
  {
   "cell_type": "markdown",
   "id": "incoming-administration",
   "metadata": {},
   "source": [
    "#### Load Preprocessors"
   ]
  },
  {
   "cell_type": "code",
   "execution_count": 43,
   "id": "altered-horror",
   "metadata": {},
   "outputs": [],
   "source": [
    "uniform_aspect=UniformAspectPreprocessor(64, 64)\n",
    "image_to_array=ImageToArrayPreprocessor()"
   ]
  },
  {
   "cell_type": "markdown",
   "id": "arranged-authority",
   "metadata": {},
   "source": [
    "#### Load Data"
   ]
  },
  {
   "cell_type": "code",
   "execution_count": 44,
   "id": "determined-record",
   "metadata": {},
   "outputs": [
    {
     "name": "stdout",
     "output_type": "stream",
     "text": [
      "Processed 1360/1360 Images.\n"
     ]
    }
   ],
   "source": [
    "data_loader=DatasetLoader(preprocessors=[uniform_aspect, image_to_array])\n",
    "data, labels= data_loader.load(image_paths, verbose=1)"
   ]
  },
  {
   "cell_type": "markdown",
   "id": "blank-example",
   "metadata": {},
   "source": [
    "#### Normalize Data"
   ]
  },
  {
   "cell_type": "code",
   "execution_count": 45,
   "id": "thrown-productivity",
   "metadata": {},
   "outputs": [],
   "source": [
    "data=data.astype(\"float\")/255.0"
   ]
  },
  {
   "cell_type": "markdown",
   "id": "encouraging-petersburg",
   "metadata": {},
   "source": [
    "#### Split Data To Training & Testing Dataset"
   ]
  },
  {
   "cell_type": "code",
   "execution_count": 46,
   "id": "chinese-breast",
   "metadata": {},
   "outputs": [],
   "source": [
    "train_x, test_x, train_y, test_y= train_test_split(data, labels, test_size=0.25, random_state=42)"
   ]
  },
  {
   "cell_type": "markdown",
   "id": "superior-function",
   "metadata": {},
   "source": [
    "#### One-Hot Enccoded Labels"
   ]
  },
  {
   "cell_type": "code",
   "execution_count": 47,
   "id": "manual-trial",
   "metadata": {},
   "outputs": [],
   "source": [
    "label_binarizer=LabelBinarizer()\n",
    "train_y=label_binarizer.fit_transform(train_y)\n",
    "test_y=label_binarizer.transform(test_y)"
   ]
  },
  {
   "cell_type": "markdown",
   "id": "binary-formula",
   "metadata": {},
   "source": [
    "#### Initialise Image Data Generator Object"
   ]
  },
  {
   "cell_type": "code",
   "execution_count": 48,
   "id": "fundamental-buddy",
   "metadata": {},
   "outputs": [],
   "source": [
    "augmenter=ImageDataGenerator(rotation_range=30, width_shift_range=0.2, height_shift_range=0.2, \n",
    "                             shear_range=0.2, zoom_range=0.2, horizontal_flip=True, fill_mode='nearest')"
   ]
  },
  {
   "cell_type": "markdown",
   "id": "framed-rally",
   "metadata": {},
   "source": [
    "#### Build & Compile TinyVGG Model"
   ]
  },
  {
   "cell_type": "code",
   "execution_count": 49,
   "id": "undefined-skirt",
   "metadata": {},
   "outputs": [],
   "source": [
    "opt=SGD(learning_rate=0.05)\n",
    "model=TinyVGG.build(width=64, height=64, depth=3, classes=len(classes))\n",
    "model.compile(loss=\"categorical_crossentropy\", optimizer=opt, metrics=[\"accuracy\"])"
   ]
  },
  {
   "cell_type": "markdown",
   "id": "lonely-julian",
   "metadata": {},
   "source": [
    "#### Traing Model With Augmented Data"
   ]
  },
  {
   "cell_type": "code",
   "execution_count": 50,
   "id": "processed-sunrise",
   "metadata": {
    "collapsed": true,
    "jupyter": {
     "outputs_hidden": true
    }
   },
   "outputs": [
    {
     "name": "stderr",
     "output_type": "stream",
     "text": [
      "/Users/suyashsrivastava/miniforge3/envs/dl4cv/lib/python3.8/site-packages/tensorflow/python/keras/engine/training.py:1844: UserWarning: `Model.fit_generator` is deprecated and will be removed in a future version. Please use `Model.fit`, which supports generators.\n",
      "  warnings.warn('`Model.fit_generator` is deprecated and '\n"
     ]
    },
    {
     "name": "stdout",
     "output_type": "stream",
     "text": [
      "Epoch 1/100\n",
      "31/31 [==============================] - 3s 84ms/step - loss: 3.5414 - accuracy: 0.1369 - val_loss: 2.8769 - val_accuracy: 0.0676\n",
      "Epoch 2/100\n",
      "31/31 [==============================] - 2s 72ms/step - loss: 2.6213 - accuracy: 0.2773 - val_loss: 3.0185 - val_accuracy: 0.0735\n",
      "Epoch 3/100\n",
      "31/31 [==============================] - 2s 72ms/step - loss: 2.2309 - accuracy: 0.3259 - val_loss: 3.2056 - val_accuracy: 0.0529\n",
      "Epoch 4/100\n",
      "31/31 [==============================] - 2s 72ms/step - loss: 2.2484 - accuracy: 0.3814 - val_loss: 3.3432 - val_accuracy: 0.1235\n",
      "Epoch 5/100\n",
      "31/31 [==============================] - 2s 74ms/step - loss: 1.9158 - accuracy: 0.4101 - val_loss: 3.3486 - val_accuracy: 0.1118\n",
      "Epoch 6/100\n",
      "31/31 [==============================] - 2s 73ms/step - loss: 1.8128 - accuracy: 0.4584 - val_loss: 3.4920 - val_accuracy: 0.0912\n",
      "Epoch 7/100\n",
      "31/31 [==============================] - 2s 73ms/step - loss: 1.7945 - accuracy: 0.4577 - val_loss: 3.0048 - val_accuracy: 0.1235\n",
      "Epoch 8/100\n",
      "31/31 [==============================] - 2s 72ms/step - loss: 1.7274 - accuracy: 0.4462 - val_loss: 3.1462 - val_accuracy: 0.1206\n",
      "Epoch 9/100\n",
      "31/31 [==============================] - 2s 72ms/step - loss: 1.6431 - accuracy: 0.5059 - val_loss: 2.9232 - val_accuracy: 0.1588\n",
      "Epoch 10/100\n",
      "31/31 [==============================] - 2s 73ms/step - loss: 1.6158 - accuracy: 0.4930 - val_loss: 2.7759 - val_accuracy: 0.2382\n",
      "Epoch 11/100\n",
      "31/31 [==============================] - 2s 72ms/step - loss: 1.5512 - accuracy: 0.5186 - val_loss: 2.2928 - val_accuracy: 0.3000\n",
      "Epoch 12/100\n",
      "31/31 [==============================] - 2s 72ms/step - loss: 1.5301 - accuracy: 0.5068 - val_loss: 2.2428 - val_accuracy: 0.3294\n",
      "Epoch 13/100\n",
      "31/31 [==============================] - 2s 73ms/step - loss: 1.4631 - accuracy: 0.5277 - val_loss: 2.1629 - val_accuracy: 0.3294\n",
      "Epoch 14/100\n",
      "31/31 [==============================] - 2s 72ms/step - loss: 1.4649 - accuracy: 0.5201 - val_loss: 1.6501 - val_accuracy: 0.4324\n",
      "Epoch 15/100\n",
      "31/31 [==============================] - 2s 72ms/step - loss: 1.4391 - accuracy: 0.5186 - val_loss: 1.9746 - val_accuracy: 0.3706\n",
      "Epoch 16/100\n",
      "31/31 [==============================] - 2s 72ms/step - loss: 1.4387 - accuracy: 0.5533 - val_loss: 1.5182 - val_accuracy: 0.5176\n",
      "Epoch 17/100\n",
      "31/31 [==============================] - 2s 73ms/step - loss: 1.4574 - accuracy: 0.5207 - val_loss: 1.6201 - val_accuracy: 0.4971\n",
      "Epoch 18/100\n",
      "31/31 [==============================] - 2s 72ms/step - loss: 1.3826 - accuracy: 0.5389 - val_loss: 1.4536 - val_accuracy: 0.5147\n",
      "Epoch 19/100\n",
      "31/31 [==============================] - 2s 72ms/step - loss: 1.4190 - accuracy: 0.5381 - val_loss: 1.3371 - val_accuracy: 0.5853\n",
      "Epoch 20/100\n",
      "31/31 [==============================] - 2s 72ms/step - loss: 1.3089 - accuracy: 0.5771 - val_loss: 1.5520 - val_accuracy: 0.5529\n",
      "Epoch 21/100\n",
      "31/31 [==============================] - 2s 74ms/step - loss: 1.2985 - accuracy: 0.5788 - val_loss: 1.4942 - val_accuracy: 0.5088\n",
      "Epoch 22/100\n",
      "31/31 [==============================] - 2s 72ms/step - loss: 1.3254 - accuracy: 0.5506 - val_loss: 1.3805 - val_accuracy: 0.5882\n",
      "Epoch 23/100\n",
      "31/31 [==============================] - 2s 72ms/step - loss: 1.2703 - accuracy: 0.5512 - val_loss: 1.7645 - val_accuracy: 0.4588\n",
      "Epoch 24/100\n",
      "31/31 [==============================] - 2s 72ms/step - loss: 1.3401 - accuracy: 0.5620 - val_loss: 1.6127 - val_accuracy: 0.5000\n",
      "Epoch 25/100\n",
      "31/31 [==============================] - 2s 73ms/step - loss: 1.2695 - accuracy: 0.5867 - val_loss: 1.2523 - val_accuracy: 0.6176\n",
      "Epoch 26/100\n",
      "31/31 [==============================] - 2s 72ms/step - loss: 1.3411 - accuracy: 0.5457 - val_loss: 1.2084 - val_accuracy: 0.6588\n",
      "Epoch 27/100\n",
      "31/31 [==============================] - 2s 72ms/step - loss: 1.2278 - accuracy: 0.6041 - val_loss: 1.2241 - val_accuracy: 0.6294\n",
      "Epoch 28/100\n",
      "31/31 [==============================] - 2s 73ms/step - loss: 1.0203 - accuracy: 0.6639 - val_loss: 1.3258 - val_accuracy: 0.6059\n",
      "Epoch 29/100\n",
      "31/31 [==============================] - 2s 73ms/step - loss: 1.0701 - accuracy: 0.6302 - val_loss: 1.3436 - val_accuracy: 0.6206\n",
      "Epoch 30/100\n",
      "31/31 [==============================] - 2s 72ms/step - loss: 1.1143 - accuracy: 0.6250 - val_loss: 1.2450 - val_accuracy: 0.6382\n",
      "Epoch 31/100\n",
      "31/31 [==============================] - 2s 72ms/step - loss: 1.1290 - accuracy: 0.6191 - val_loss: 1.3145 - val_accuracy: 0.6147\n",
      "Epoch 32/100\n",
      "31/31 [==============================] - 2s 73ms/step - loss: 1.1531 - accuracy: 0.6303 - val_loss: 1.4165 - val_accuracy: 0.5882\n",
      "Epoch 33/100\n",
      "31/31 [==============================] - 2s 72ms/step - loss: 1.0188 - accuracy: 0.6521 - val_loss: 1.5246 - val_accuracy: 0.5647\n",
      "Epoch 34/100\n",
      "31/31 [==============================] - 2s 73ms/step - loss: 1.0521 - accuracy: 0.6458 - val_loss: 1.5499 - val_accuracy: 0.5912\n",
      "Epoch 35/100\n",
      "31/31 [==============================] - 2s 74ms/step - loss: 1.1213 - accuracy: 0.6335 - val_loss: 1.4697 - val_accuracy: 0.6206\n",
      "Epoch 36/100\n",
      "31/31 [==============================] - 2s 79ms/step - loss: 0.9977 - accuracy: 0.6706 - val_loss: 1.3109 - val_accuracy: 0.6382\n",
      "Epoch 37/100\n",
      "31/31 [==============================] - 2s 77ms/step - loss: 1.1389 - accuracy: 0.6367 - val_loss: 1.2616 - val_accuracy: 0.6382\n",
      "Epoch 38/100\n",
      "31/31 [==============================] - 2s 74ms/step - loss: 1.0067 - accuracy: 0.6787 - val_loss: 1.4606 - val_accuracy: 0.5912\n",
      "Epoch 39/100\n",
      "31/31 [==============================] - 2s 75ms/step - loss: 1.0425 - accuracy: 0.6612 - val_loss: 1.2446 - val_accuracy: 0.6206\n",
      "Epoch 40/100\n",
      "31/31 [==============================] - 2s 74ms/step - loss: 1.0579 - accuracy: 0.6481 - val_loss: 1.1145 - val_accuracy: 0.6618\n",
      "Epoch 41/100\n",
      "31/31 [==============================] - 2s 70ms/step - loss: 1.0343 - accuracy: 0.6733 - val_loss: 1.3834 - val_accuracy: 0.6088\n",
      "Epoch 42/100\n",
      "31/31 [==============================] - 2s 70ms/step - loss: 0.9064 - accuracy: 0.6795 - val_loss: 1.4250 - val_accuracy: 0.6294\n",
      "Epoch 43/100\n",
      "31/31 [==============================] - 2s 70ms/step - loss: 0.9850 - accuracy: 0.6634 - val_loss: 1.3651 - val_accuracy: 0.6206\n",
      "Epoch 44/100\n",
      "31/31 [==============================] - 2s 71ms/step - loss: 1.0242 - accuracy: 0.6515 - val_loss: 1.5199 - val_accuracy: 0.6088\n",
      "Epoch 45/100\n",
      "31/31 [==============================] - 2s 71ms/step - loss: 0.9173 - accuracy: 0.6868 - val_loss: 1.3769 - val_accuracy: 0.6029\n",
      "Epoch 46/100\n",
      "31/31 [==============================] - 2s 71ms/step - loss: 0.9797 - accuracy: 0.6917 - val_loss: 1.5199 - val_accuracy: 0.5735\n",
      "Epoch 47/100\n",
      "31/31 [==============================] - 2s 71ms/step - loss: 1.0995 - accuracy: 0.6503 - val_loss: 1.2367 - val_accuracy: 0.6647\n",
      "Epoch 48/100\n",
      "31/31 [==============================] - 2s 70ms/step - loss: 0.8198 - accuracy: 0.7348 - val_loss: 1.7635 - val_accuracy: 0.5559\n",
      "Epoch 49/100\n",
      "31/31 [==============================] - 2s 72ms/step - loss: 0.9607 - accuracy: 0.7063 - val_loss: 1.5798 - val_accuracy: 0.6059\n",
      "Epoch 50/100\n",
      "31/31 [==============================] - 2s 71ms/step - loss: 0.9906 - accuracy: 0.6600 - val_loss: 1.2924 - val_accuracy: 0.6618\n",
      "Epoch 51/100\n",
      "31/31 [==============================] - 2s 70ms/step - loss: 0.9010 - accuracy: 0.6923 - val_loss: 1.2729 - val_accuracy: 0.6500\n",
      "Epoch 52/100\n",
      "31/31 [==============================] - 2s 71ms/step - loss: 0.8862 - accuracy: 0.7053 - val_loss: 1.4459 - val_accuracy: 0.6471\n",
      "Epoch 53/100\n",
      "31/31 [==============================] - 2s 71ms/step - loss: 0.8894 - accuracy: 0.7041 - val_loss: 1.2383 - val_accuracy: 0.6441\n",
      "Epoch 54/100\n",
      "31/31 [==============================] - 2s 70ms/step - loss: 0.9301 - accuracy: 0.6968 - val_loss: 1.4740 - val_accuracy: 0.6029\n",
      "Epoch 55/100\n",
      "31/31 [==============================] - 2s 72ms/step - loss: 0.8986 - accuracy: 0.7088 - val_loss: 1.4331 - val_accuracy: 0.6176\n",
      "Epoch 56/100\n",
      "31/31 [==============================] - 2s 75ms/step - loss: 0.9480 - accuracy: 0.6739 - val_loss: 1.5446 - val_accuracy: 0.6118\n",
      "Epoch 57/100\n",
      "31/31 [==============================] - 2s 75ms/step - loss: 0.9507 - accuracy: 0.6834 - val_loss: 1.2032 - val_accuracy: 0.6706\n",
      "Epoch 58/100\n",
      "31/31 [==============================] - 2s 71ms/step - loss: 0.9294 - accuracy: 0.7056 - val_loss: 1.3793 - val_accuracy: 0.6059\n",
      "Epoch 59/100\n",
      "31/31 [==============================] - 2s 71ms/step - loss: 0.7744 - accuracy: 0.7295 - val_loss: 1.3842 - val_accuracy: 0.5912\n",
      "Epoch 60/100\n",
      "31/31 [==============================] - 2s 78ms/step - loss: 0.8867 - accuracy: 0.6901 - val_loss: 1.9234 - val_accuracy: 0.5353\n",
      "Epoch 61/100\n",
      "31/31 [==============================] - 2s 73ms/step - loss: 0.8681 - accuracy: 0.6884 - val_loss: 1.5299 - val_accuracy: 0.6118\n",
      "Epoch 62/100\n",
      "31/31 [==============================] - 2s 72ms/step - loss: 0.8708 - accuracy: 0.7267 - val_loss: 1.3839 - val_accuracy: 0.6500\n",
      "Epoch 63/100\n",
      "31/31 [==============================] - 2s 72ms/step - loss: 0.8886 - accuracy: 0.6889 - val_loss: 1.3624 - val_accuracy: 0.6412\n",
      "Epoch 64/100\n",
      "31/31 [==============================] - 2s 72ms/step - loss: 0.7701 - accuracy: 0.7175 - val_loss: 1.3968 - val_accuracy: 0.6441\n",
      "Epoch 65/100\n",
      "31/31 [==============================] - 2s 72ms/step - loss: 0.7933 - accuracy: 0.7168 - val_loss: 1.3993 - val_accuracy: 0.6382\n",
      "Epoch 66/100\n",
      "31/31 [==============================] - 2s 72ms/step - loss: 0.7945 - accuracy: 0.7287 - val_loss: 1.4508 - val_accuracy: 0.6294\n",
      "Epoch 67/100\n",
      "31/31 [==============================] - 2s 73ms/step - loss: 0.8298 - accuracy: 0.7302 - val_loss: 1.3748 - val_accuracy: 0.6353\n",
      "Epoch 68/100\n",
      "31/31 [==============================] - 2s 73ms/step - loss: 0.8844 - accuracy: 0.7092 - val_loss: 1.3639 - val_accuracy: 0.6412\n",
      "Epoch 69/100\n",
      "31/31 [==============================] - 2s 73ms/step - loss: 0.7222 - accuracy: 0.7653 - val_loss: 1.5653 - val_accuracy: 0.5971\n",
      "Epoch 70/100\n",
      "31/31 [==============================] - 2s 73ms/step - loss: 0.8029 - accuracy: 0.7144 - val_loss: 1.5528 - val_accuracy: 0.6324\n",
      "Epoch 71/100\n",
      "31/31 [==============================] - 2s 73ms/step - loss: 0.8557 - accuracy: 0.7262 - val_loss: 1.4799 - val_accuracy: 0.6324\n",
      "Epoch 72/100\n",
      "31/31 [==============================] - 2s 73ms/step - loss: 0.7233 - accuracy: 0.7618 - val_loss: 1.5210 - val_accuracy: 0.6324\n",
      "Epoch 73/100\n",
      "31/31 [==============================] - 2s 73ms/step - loss: 0.9025 - accuracy: 0.7132 - val_loss: 1.3855 - val_accuracy: 0.6794\n",
      "Epoch 74/100\n",
      "31/31 [==============================] - 2s 73ms/step - loss: 0.8276 - accuracy: 0.7124 - val_loss: 1.2326 - val_accuracy: 0.6971\n",
      "Epoch 75/100\n",
      "31/31 [==============================] - 2s 72ms/step - loss: 0.8237 - accuracy: 0.7476 - val_loss: 1.2462 - val_accuracy: 0.6882\n",
      "Epoch 76/100\n",
      "31/31 [==============================] - 2s 72ms/step - loss: 0.7415 - accuracy: 0.7692 - val_loss: 1.3606 - val_accuracy: 0.6559\n",
      "Epoch 77/100\n",
      "31/31 [==============================] - 2s 74ms/step - loss: 0.7606 - accuracy: 0.7441 - val_loss: 1.1503 - val_accuracy: 0.6912\n",
      "Epoch 78/100\n",
      "31/31 [==============================] - 2s 73ms/step - loss: 0.7134 - accuracy: 0.7695 - val_loss: 1.5240 - val_accuracy: 0.6000\n",
      "Epoch 79/100\n",
      "31/31 [==============================] - 2s 72ms/step - loss: 0.7750 - accuracy: 0.7413 - val_loss: 1.2830 - val_accuracy: 0.6500\n",
      "Epoch 80/100\n",
      "31/31 [==============================] - 2s 72ms/step - loss: 0.8499 - accuracy: 0.7250 - val_loss: 1.2844 - val_accuracy: 0.6912\n",
      "Epoch 81/100\n",
      "31/31 [==============================] - 2s 72ms/step - loss: 0.7237 - accuracy: 0.7477 - val_loss: 1.4162 - val_accuracy: 0.6794\n",
      "Epoch 82/100\n",
      "31/31 [==============================] - 2s 73ms/step - loss: 0.6472 - accuracy: 0.7691 - val_loss: 1.5628 - val_accuracy: 0.6735\n",
      "Epoch 83/100\n",
      "31/31 [==============================] - 2s 73ms/step - loss: 0.7315 - accuracy: 0.7632 - val_loss: 1.2544 - val_accuracy: 0.6912\n",
      "Epoch 84/100\n",
      "31/31 [==============================] - 2s 73ms/step - loss: 0.6972 - accuracy: 0.7804 - val_loss: 1.3402 - val_accuracy: 0.7088\n",
      "Epoch 85/100\n",
      "31/31 [==============================] - 2s 73ms/step - loss: 0.7109 - accuracy: 0.7498 - val_loss: 1.3455 - val_accuracy: 0.6676\n",
      "Epoch 86/100\n",
      "31/31 [==============================] - 2s 73ms/step - loss: 0.6751 - accuracy: 0.7623 - val_loss: 1.4831 - val_accuracy: 0.6353\n",
      "Epoch 87/100\n",
      "31/31 [==============================] - 2s 73ms/step - loss: 0.7368 - accuracy: 0.7486 - val_loss: 1.2975 - val_accuracy: 0.6971\n",
      "Epoch 88/100\n",
      "31/31 [==============================] - 2s 73ms/step - loss: 0.7364 - accuracy: 0.7582 - val_loss: 1.7502 - val_accuracy: 0.5882\n",
      "Epoch 89/100\n",
      "31/31 [==============================] - 2s 73ms/step - loss: 0.6709 - accuracy: 0.7701 - val_loss: 1.4729 - val_accuracy: 0.6971\n",
      "Epoch 90/100\n",
      "31/31 [==============================] - 2s 73ms/step - loss: 0.6327 - accuracy: 0.7810 - val_loss: 1.2795 - val_accuracy: 0.7206\n",
      "Epoch 91/100\n",
      "31/31 [==============================] - 2s 73ms/step - loss: 0.6773 - accuracy: 0.7609 - val_loss: 1.0131 - val_accuracy: 0.7441\n",
      "Epoch 92/100\n",
      "31/31 [==============================] - 2s 73ms/step - loss: 0.7352 - accuracy: 0.7638 - val_loss: 1.1355 - val_accuracy: 0.7265\n",
      "Epoch 93/100\n",
      "31/31 [==============================] - 2s 73ms/step - loss: 0.5770 - accuracy: 0.8044 - val_loss: 1.1923 - val_accuracy: 0.7059\n",
      "Epoch 94/100\n",
      "31/31 [==============================] - 2s 73ms/step - loss: 0.6533 - accuracy: 0.7847 - val_loss: 1.1694 - val_accuracy: 0.7353\n",
      "Epoch 95/100\n",
      "31/31 [==============================] - 2s 73ms/step - loss: 0.6350 - accuracy: 0.7876 - val_loss: 1.2130 - val_accuracy: 0.7294\n",
      "Epoch 96/100\n",
      "31/31 [==============================] - 2s 73ms/step - loss: 0.6311 - accuracy: 0.7806 - val_loss: 1.3861 - val_accuracy: 0.6794\n",
      "Epoch 97/100\n",
      "31/31 [==============================] - 2s 73ms/step - loss: 0.6929 - accuracy: 0.7576 - val_loss: 1.2494 - val_accuracy: 0.7088\n",
      "Epoch 98/100\n",
      "31/31 [==============================] - 2s 73ms/step - loss: 0.6722 - accuracy: 0.7612 - val_loss: 1.8027 - val_accuracy: 0.6294\n",
      "Epoch 99/100\n",
      "31/31 [==============================] - 2s 73ms/step - loss: 0.6682 - accuracy: 0.7879 - val_loss: 1.2319 - val_accuracy: 0.6882\n",
      "Epoch 100/100\n",
      "31/31 [==============================] - 2s 73ms/step - loss: 0.6515 - accuracy: 0.7801 - val_loss: 1.4261 - val_accuracy: 0.6912\n"
     ]
    }
   ],
   "source": [
    "epochs=100\n",
    "Z=model.fit_generator(augmenter.flow(train_x, train_y, batch_size=32), validation_data=(test_x, test_y),\n",
    "                     steps_per_epoch=len(train_x)//32, epochs=epochs, verbose=1)"
   ]
  },
  {
   "cell_type": "markdown",
   "id": "mighty-conviction",
   "metadata": {},
   "source": [
    "#### Running Predictions"
   ]
  },
  {
   "cell_type": "code",
   "execution_count": 51,
   "id": "circular-passport",
   "metadata": {},
   "outputs": [],
   "source": [
    "predictions=model.predict(test_x, batch_size=32)\n"
   ]
  },
  {
   "cell_type": "markdown",
   "id": "molecular-tenant",
   "metadata": {},
   "source": [
    "#### Get Model Prediction Report"
   ]
  },
  {
   "cell_type": "code",
   "execution_count": 52,
   "id": "british-jamaica",
   "metadata": {},
   "outputs": [
    {
     "name": "stdout",
     "output_type": "stream",
     "text": [
      "              precision    recall  f1-score   support\n",
      "\n",
      "           0       0.44      0.27      0.33        15\n",
      "           1       0.54      0.75      0.63        20\n",
      "          10       0.95      0.70      0.81        27\n",
      "          11       0.54      0.65      0.59        20\n",
      "          12       0.48      0.94      0.64        16\n",
      "          13       0.80      0.44      0.57        18\n",
      "          14       0.91      0.43      0.59        23\n",
      "          15       0.81      0.85      0.83        20\n",
      "          16       0.92      0.58      0.71        19\n",
      "           2       1.00      0.56      0.71        18\n",
      "           3       0.94      0.77      0.85        22\n",
      "           4       0.41      1.00      0.58        20\n",
      "           5       0.94      0.70      0.80        23\n",
      "           6       0.80      0.95      0.87        21\n",
      "           7       0.50      0.57      0.53        23\n",
      "           8       0.92      0.75      0.83        16\n",
      "           9       0.94      0.79      0.86        19\n",
      "\n",
      "    accuracy                           0.69       340\n",
      "   macro avg       0.76      0.69      0.69       340\n",
      "weighted avg       0.76      0.69      0.70       340\n",
      "\n"
     ]
    }
   ],
   "source": [
    "print(classification_report(test_y.argmax(axis=1),predictions.argmax(axis=1), target_names=classes))"
   ]
  },
  {
   "cell_type": "markdown",
   "id": "reserved-administration",
   "metadata": {},
   "source": [
    "#### Plot Model Training Metrics"
   ]
  },
  {
   "cell_type": "code",
   "execution_count": 53,
   "id": "prostate-guinea",
   "metadata": {},
   "outputs": [
    {
     "data": {
      "image/png": "[encoded data removed]",
      "text/plain": [
       "<Figure size 432x288 with 1 Axes>"
      ]
     },
     "metadata": {},
     "output_type": "display_data"
    }
   ],
   "source": [
    "plot_training_metrics(epochs, Z)"
   ]
  },
  {
   "cell_type": "code",
   "execution_count": null,
   "id": "resident-divide",
   "metadata": {},
   "outputs": [],
   "source": []
  }
 ],
 "metadata": {
  "kernelspec": {
   "display_name": "Python 3",
   "language": "python",
   "name": "python3"
  },
  "language_info": {
   "codemirror_mode": {
    "name": "ipython",
    "version": 3
   },
   "file_extension": ".py",
   "mimetype": "text/x-python",
   "name": "python",
   "nbconvert_exporter": "python",
   "pygments_lexer": "ipython3",
   "version": "3.8.6"
  }
 },
 "nbformat": 4,
 "nbformat_minor": 5
}
