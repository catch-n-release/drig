{
 "cells": [
  {
   "cell_type": "markdown",
   "id": "celtic-wallpaper",
   "metadata": {},
   "source": [
    "# Training TinyVGG on Flowers17 With Regularization To Improve Accuracy "
   ]
  },
  {
   "cell_type": "markdown",
   "id": "administrative-grounds",
   "metadata": {},
   "source": [
    "#### Import Necessary Packages"
   ]
  },
  {
   "cell_type": "code",
   "execution_count": 2,
   "id": "expected-score",
   "metadata": {},
   "outputs": [],
   "source": [
    "from imutils import paths\n",
    "from drig.preprocessors.preprocessors import ImageToArrayPreprocessor, UniformAspectPreprocessor\n",
    "from drig.datasets.datasetloader import DatasetLoader\n",
    "from sklearn.preprocessing import LabelBinarizer\n",
    "from sklearn.model_selection import train_test_split\n",
    "from drig.networks.networks import TinyVGG\n",
    "from keras.optimizers import SGD\n",
    "from sklearn.metrics import classification_report\n",
    "from drig.utils import plot_training_metrics\n",
    "from keras.preprocessing.image import ImageDataGenerator\n",
    "import numpy as np"
   ]
  },
  {
   "cell_type": "markdown",
   "id": "loved-noise",
   "metadata": {},
   "source": [
    "#### Load Images"
   ]
  },
  {
   "cell_type": "code",
   "execution_count": 3,
   "id": "changing-volleyball",
   "metadata": {},
   "outputs": [],
   "source": [
    "image_paths=list(paths.list_images(\"../datasets/17flowers/\"))\n",
    "classes=[image_path.split(\"/\")[-2] for image_path in image_paths]\n",
    "classes=[str(label) for label in np.unique(classes)]"
   ]
  },
  {
   "cell_type": "markdown",
   "id": "raising-score",
   "metadata": {},
   "source": [
    "#### Load Preprocessors"
   ]
  },
  {
   "cell_type": "code",
   "execution_count": 4,
   "id": "extended-leader",
   "metadata": {},
   "outputs": [],
   "source": [
    "uniform_aspect=UniformAspectPreprocessor(64, 64)\n",
    "image_to_array=ImageToArrayPreprocessor()"
   ]
  },
  {
   "cell_type": "markdown",
   "id": "indian-consolidation",
   "metadata": {},
   "source": [
    "#### Load Data"
   ]
  },
  {
   "cell_type": "code",
   "execution_count": 5,
   "id": "friendly-criticism",
   "metadata": {},
   "outputs": [
    {
     "name": "stdout",
     "output_type": "stream",
     "text": [
      "Processed 1360/1360 Images.\n"
     ]
    }
   ],
   "source": [
    "data_loader=DatasetLoader(preprocessors=[uniform_aspect, image_to_array])\n",
    "data, labels= data_loader.load(image_paths, verbose=1)"
   ]
  },
  {
   "cell_type": "markdown",
   "id": "adverse-playlist",
   "metadata": {},
   "source": [
    "#### Normalize Data"
   ]
  },
  {
   "cell_type": "code",
   "execution_count": 6,
   "id": "professional-elimination",
   "metadata": {},
   "outputs": [],
   "source": [
    "data=data.astype(\"float\")/255.0"
   ]
  },
  {
   "cell_type": "markdown",
   "id": "sacred-resistance",
   "metadata": {},
   "source": [
    "#### Split Data To Training & Testing Dataset"
   ]
  },
  {
   "cell_type": "code",
   "execution_count": 7,
   "id": "applicable-prize",
   "metadata": {},
   "outputs": [],
   "source": [
    "train_x, test_x, train_y, test_y= train_test_split(data, labels, test_size=0.25, random_state=42)"
   ]
  },
  {
   "cell_type": "markdown",
   "id": "fluid-consolidation",
   "metadata": {},
   "source": [
    "#### One-Hot Enccoded Labels"
   ]
  },
  {
   "cell_type": "code",
   "execution_count": 8,
   "id": "suspended-vulnerability",
   "metadata": {},
   "outputs": [],
   "source": [
    "label_binarizer=LabelBinarizer()\n",
    "train_y=label_binarizer.fit_transform(train_y)\n",
    "test_y=label_binarizer.transform(test_y)"
   ]
  },
  {
   "cell_type": "markdown",
   "id": "offensive-scholar",
   "metadata": {},
   "source": [
    "#### Initialise Image Data Generator Object"
   ]
  },
  {
   "cell_type": "code",
   "execution_count": 9,
   "id": "corporate-married",
   "metadata": {},
   "outputs": [],
   "source": [
    "augmenter=ImageDataGenerator(rotation_range=30, width_shift_range=0.2, height_shift_range=0.2, \n",
    "                             shear_range=0.2, zoom_range=0.2, horizontal_flip=True, fill_mode='nearest')"
   ]
  },
  {
   "cell_type": "markdown",
   "id": "owned-hampton",
   "metadata": {},
   "source": [
    "#### Build & Compile TinyVGG Model"
   ]
  },
  {
   "cell_type": "code",
   "execution_count": 10,
   "id": "forward-challenge",
   "metadata": {},
   "outputs": [],
   "source": [
    "opt=SGD(learning_rate=0.05)\n",
    "model=TinyVGG.build(width=64, height=64, depth=3, classes=len(classes))\n",
    "model.compile(loss=\"categorical_crossentropy\", optimizer=opt, metrics=[\"accuracy\"])"
   ]
  },
  {
   "cell_type": "markdown",
   "id": "continuous-scope",
   "metadata": {},
   "source": [
    "#### Traing Model With Augmented Data"
   ]
  },
  {
   "cell_type": "code",
   "execution_count": 11,
   "id": "comparable-finger",
   "metadata": {},
   "outputs": [
    {
     "name": "stdout",
     "output_type": "stream",
     "text": [
      "Epoch 1/100\n",
      "31/31 [==============================] - 3s 83ms/step - loss: 3.7434 - accuracy: 0.1502 - val_loss: 2.9638 - val_accuracy: 0.0500\n",
      "Epoch 2/100\n",
      "31/31 [==============================] - 2s 70ms/step - loss: 2.5715 - accuracy: 0.3092 - val_loss: 3.1991 - val_accuracy: 0.0824\n",
      "Epoch 3/100\n",
      "31/31 [==============================] - 2s 70ms/step - loss: 2.1779 - accuracy: 0.3683 - val_loss: 3.4910 - val_accuracy: 0.0912\n",
      "Epoch 4/100\n",
      "31/31 [==============================] - 2s 70ms/step - loss: 1.8995 - accuracy: 0.4275 - val_loss: 4.6024 - val_accuracy: 0.0559\n",
      "Epoch 5/100\n",
      "31/31 [==============================] - 2s 70ms/step - loss: 1.9694 - accuracy: 0.3920 - val_loss: 4.3055 - val_accuracy: 0.0912\n",
      "Epoch 6/100\n",
      "31/31 [==============================] - 2s 70ms/step - loss: 1.7647 - accuracy: 0.4516 - val_loss: 3.9338 - val_accuracy: 0.1147\n",
      "Epoch 7/100\n",
      "31/31 [==============================] - 2s 70ms/step - loss: 1.6828 - accuracy: 0.4639 - val_loss: 3.9181 - val_accuracy: 0.1265\n",
      "Epoch 8/100\n",
      "31/31 [==============================] - 2s 70ms/step - loss: 1.7921 - accuracy: 0.4339 - val_loss: 3.2799 - val_accuracy: 0.1676\n",
      "Epoch 9/100\n",
      "31/31 [==============================] - 2s 70ms/step - loss: 1.5693 - accuracy: 0.4887 - val_loss: 3.3489 - val_accuracy: 0.1971\n",
      "Epoch 10/100\n",
      "31/31 [==============================] - 2s 70ms/step - loss: 1.5313 - accuracy: 0.5080 - val_loss: 3.3114 - val_accuracy: 0.2147\n",
      "Epoch 11/100\n",
      "31/31 [==============================] - 2s 70ms/step - loss: 1.4614 - accuracy: 0.5619 - val_loss: 2.6060 - val_accuracy: 0.2882\n",
      "Epoch 12/100\n",
      "31/31 [==============================] - 2s 70ms/step - loss: 1.5334 - accuracy: 0.5327 - val_loss: 2.6948 - val_accuracy: 0.2676\n",
      "Epoch 13/100\n",
      "31/31 [==============================] - 2s 70ms/step - loss: 1.5162 - accuracy: 0.5145 - val_loss: 2.3865 - val_accuracy: 0.3029\n",
      "Epoch 14/100\n",
      "31/31 [==============================] - 2s 70ms/step - loss: 1.3566 - accuracy: 0.5602 - val_loss: 2.3645 - val_accuracy: 0.3382\n",
      "Epoch 15/100\n",
      "31/31 [==============================] - 2s 70ms/step - loss: 1.4394 - accuracy: 0.5203 - val_loss: 1.9540 - val_accuracy: 0.3824\n",
      "Epoch 16/100\n",
      "31/31 [==============================] - 2s 70ms/step - loss: 1.3074 - accuracy: 0.5827 - val_loss: 1.7770 - val_accuracy: 0.4441\n",
      "Epoch 17/100\n",
      "31/31 [==============================] - 2s 70ms/step - loss: 1.2632 - accuracy: 0.5716 - val_loss: 1.6889 - val_accuracy: 0.4618\n",
      "Epoch 18/100\n",
      "31/31 [==============================] - 2s 71ms/step - loss: 1.2945 - accuracy: 0.5790 - val_loss: 1.6841 - val_accuracy: 0.4735\n",
      "Epoch 19/100\n",
      "31/31 [==============================] - 2s 71ms/step - loss: 1.3598 - accuracy: 0.5609 - val_loss: 1.7364 - val_accuracy: 0.4882\n",
      "Epoch 20/100\n",
      "31/31 [==============================] - 2s 70ms/step - loss: 1.2529 - accuracy: 0.5871 - val_loss: 1.6966 - val_accuracy: 0.5147\n",
      "Epoch 21/100\n",
      "31/31 [==============================] - 2s 71ms/step - loss: 1.3028 - accuracy: 0.5812 - val_loss: 1.5938 - val_accuracy: 0.5088\n",
      "Epoch 22/100\n",
      "31/31 [==============================] - 2s 71ms/step - loss: 1.2056 - accuracy: 0.6086 - val_loss: 1.4082 - val_accuracy: 0.5676\n",
      "Epoch 23/100\n",
      "31/31 [==============================] - 2s 71ms/step - loss: 1.2102 - accuracy: 0.5784 - val_loss: 1.5131 - val_accuracy: 0.5765\n",
      "Epoch 24/100\n",
      "31/31 [==============================] - 2s 71ms/step - loss: 1.2327 - accuracy: 0.5961 - val_loss: 1.3326 - val_accuracy: 0.6088\n",
      "Epoch 25/100\n",
      "31/31 [==============================] - 2s 71ms/step - loss: 1.1415 - accuracy: 0.6214 - val_loss: 1.4613 - val_accuracy: 0.6059\n",
      "Epoch 26/100\n",
      "31/31 [==============================] - 2s 70ms/step - loss: 1.2645 - accuracy: 0.5974 - val_loss: 1.3216 - val_accuracy: 0.6000\n",
      "Epoch 27/100\n",
      "31/31 [==============================] - 2s 70ms/step - loss: 1.2396 - accuracy: 0.6017 - val_loss: 1.3512 - val_accuracy: 0.6118\n",
      "Epoch 28/100\n",
      "31/31 [==============================] - 2s 70ms/step - loss: 1.1917 - accuracy: 0.6098 - val_loss: 1.4962 - val_accuracy: 0.6088\n",
      "Epoch 29/100\n",
      "31/31 [==============================] - 2s 70ms/step - loss: 1.0856 - accuracy: 0.6375 - val_loss: 1.3272 - val_accuracy: 0.6176\n",
      "Epoch 30/100\n",
      "31/31 [==============================] - 2s 70ms/step - loss: 1.0976 - accuracy: 0.6085 - val_loss: 1.3719 - val_accuracy: 0.6000\n",
      "Epoch 31/100\n",
      "31/31 [==============================] - 2s 70ms/step - loss: 1.1628 - accuracy: 0.6132 - val_loss: 1.8403 - val_accuracy: 0.5206\n",
      "Epoch 32/100\n",
      "31/31 [==============================] - 2s 71ms/step - loss: 1.1157 - accuracy: 0.6052 - val_loss: 1.5792 - val_accuracy: 0.5941\n",
      "Epoch 33/100\n",
      "31/31 [==============================] - 2s 70ms/step - loss: 0.9670 - accuracy: 0.6483 - val_loss: 1.4247 - val_accuracy: 0.6118\n",
      "Epoch 34/100\n",
      "31/31 [==============================] - 2s 70ms/step - loss: 1.1418 - accuracy: 0.6191 - val_loss: 1.4845 - val_accuracy: 0.6147\n",
      "Epoch 35/100\n",
      "31/31 [==============================] - 2s 70ms/step - loss: 1.1416 - accuracy: 0.6205 - val_loss: 1.7481 - val_accuracy: 0.5853\n",
      "Epoch 36/100\n",
      "31/31 [==============================] - 2s 70ms/step - loss: 1.0244 - accuracy: 0.6350 - val_loss: 1.7559 - val_accuracy: 0.5824\n",
      "Epoch 37/100\n",
      "31/31 [==============================] - 2s 70ms/step - loss: 1.0344 - accuracy: 0.6427 - val_loss: 1.3121 - val_accuracy: 0.6500\n",
      "Epoch 38/100\n",
      "31/31 [==============================] - 2s 70ms/step - loss: 1.0336 - accuracy: 0.6575 - val_loss: 1.3574 - val_accuracy: 0.6265\n",
      "Epoch 39/100\n",
      "31/31 [==============================] - 2s 70ms/step - loss: 1.0730 - accuracy: 0.6326 - val_loss: 1.3345 - val_accuracy: 0.6147\n",
      "Epoch 40/100\n",
      "31/31 [==============================] - 2s 71ms/step - loss: 0.9979 - accuracy: 0.6578 - val_loss: 1.2870 - val_accuracy: 0.6353\n",
      "Epoch 41/100\n",
      "31/31 [==============================] - 2s 70ms/step - loss: 1.0026 - accuracy: 0.6458 - val_loss: 1.2833 - val_accuracy: 0.6206\n",
      "Epoch 42/100\n",
      "31/31 [==============================] - 2s 70ms/step - loss: 1.0147 - accuracy: 0.6713 - val_loss: 1.5036 - val_accuracy: 0.6235\n",
      "Epoch 43/100\n",
      "31/31 [==============================] - 2s 71ms/step - loss: 0.9479 - accuracy: 0.6878 - val_loss: 1.3262 - val_accuracy: 0.6294\n",
      "Epoch 44/100\n",
      "31/31 [==============================] - 2s 72ms/step - loss: 0.9379 - accuracy: 0.6912 - val_loss: 1.2363 - val_accuracy: 0.6588\n",
      "Epoch 45/100\n",
      "31/31 [==============================] - 2s 70ms/step - loss: 0.9150 - accuracy: 0.6928 - val_loss: 1.3964 - val_accuracy: 0.6382\n",
      "Epoch 46/100\n",
      "31/31 [==============================] - 2s 70ms/step - loss: 0.9376 - accuracy: 0.6702 - val_loss: 1.4951 - val_accuracy: 0.6118\n",
      "Epoch 47/100\n",
      "31/31 [==============================] - 2s 70ms/step - loss: 0.9828 - accuracy: 0.6683 - val_loss: 1.3631 - val_accuracy: 0.6559\n",
      "Epoch 48/100\n",
      "31/31 [==============================] - 2s 70ms/step - loss: 0.9928 - accuracy: 0.7013 - val_loss: 1.4242 - val_accuracy: 0.6206\n",
      "Epoch 49/100\n",
      "31/31 [==============================] - 2s 70ms/step - loss: 0.9609 - accuracy: 0.6904 - val_loss: 1.3193 - val_accuracy: 0.6265\n",
      "Epoch 50/100\n",
      "31/31 [==============================] - 2s 70ms/step - loss: 0.9091 - accuracy: 0.7041 - val_loss: 1.1163 - val_accuracy: 0.6971\n",
      "Epoch 51/100\n",
      "31/31 [==============================] - 2s 70ms/step - loss: 0.9277 - accuracy: 0.6811 - val_loss: 1.3554 - val_accuracy: 0.6353\n",
      "Epoch 52/100\n",
      "31/31 [==============================] - 2s 70ms/step - loss: 0.8964 - accuracy: 0.7016 - val_loss: 1.3095 - val_accuracy: 0.6441\n",
      "Epoch 53/100\n",
      "31/31 [==============================] - 2s 70ms/step - loss: 0.8280 - accuracy: 0.7300 - val_loss: 1.5805 - val_accuracy: 0.6088\n",
      "Epoch 54/100\n",
      "31/31 [==============================] - 2s 70ms/step - loss: 0.8387 - accuracy: 0.7197 - val_loss: 1.6056 - val_accuracy: 0.6029\n",
      "Epoch 55/100\n",
      "31/31 [==============================] - 2s 71ms/step - loss: 0.8559 - accuracy: 0.7053 - val_loss: 1.3498 - val_accuracy: 0.6471\n",
      "Epoch 56/100\n",
      "31/31 [==============================] - 2s 70ms/step - loss: 0.7626 - accuracy: 0.7396 - val_loss: 1.7139 - val_accuracy: 0.5912\n",
      "Epoch 57/100\n",
      "31/31 [==============================] - 2s 70ms/step - loss: 0.9052 - accuracy: 0.7361 - val_loss: 1.2643 - val_accuracy: 0.6676\n",
      "Epoch 58/100\n",
      "31/31 [==============================] - 2s 70ms/step - loss: 0.8100 - accuracy: 0.7286 - val_loss: 1.4598 - val_accuracy: 0.6412\n",
      "Epoch 59/100\n",
      "31/31 [==============================] - 2s 70ms/step - loss: 0.8954 - accuracy: 0.6945 - val_loss: 1.3345 - val_accuracy: 0.6294\n",
      "Epoch 60/100\n",
      "31/31 [==============================] - 2s 70ms/step - loss: 0.8565 - accuracy: 0.7172 - val_loss: 1.3159 - val_accuracy: 0.6735\n",
      "Epoch 61/100\n",
      "31/31 [==============================] - 2s 70ms/step - loss: 0.9241 - accuracy: 0.6879 - val_loss: 1.9300 - val_accuracy: 0.5941\n",
      "Epoch 62/100\n",
      "31/31 [==============================] - 2s 70ms/step - loss: 0.9110 - accuracy: 0.7052 - val_loss: 2.5395 - val_accuracy: 0.4971\n",
      "Epoch 63/100\n",
      "31/31 [==============================] - 2s 70ms/step - loss: 0.7848 - accuracy: 0.7319 - val_loss: 1.3349 - val_accuracy: 0.6618\n",
      "Epoch 64/100\n",
      "31/31 [==============================] - 2s 70ms/step - loss: 0.8490 - accuracy: 0.7088 - val_loss: 1.3055 - val_accuracy: 0.6765\n",
      "Epoch 65/100\n",
      "31/31 [==============================] - 2s 71ms/step - loss: 0.7873 - accuracy: 0.7292 - val_loss: 1.3878 - val_accuracy: 0.6824\n",
      "Epoch 66/100\n",
      "31/31 [==============================] - 2s 72ms/step - loss: 0.7250 - accuracy: 0.7579 - val_loss: 1.1762 - val_accuracy: 0.6765\n",
      "Epoch 67/100\n",
      "31/31 [==============================] - 2s 70ms/step - loss: 0.8208 - accuracy: 0.7530 - val_loss: 1.2087 - val_accuracy: 0.6882\n",
      "Epoch 68/100\n",
      "31/31 [==============================] - 2s 70ms/step - loss: 0.7673 - accuracy: 0.7328 - val_loss: 1.3253 - val_accuracy: 0.6618\n",
      "Epoch 69/100\n",
      "31/31 [==============================] - 2s 70ms/step - loss: 0.7881 - accuracy: 0.7423 - val_loss: 1.5041 - val_accuracy: 0.6324\n",
      "Epoch 70/100\n",
      "31/31 [==============================] - 2s 71ms/step - loss: 0.7527 - accuracy: 0.7482 - val_loss: 1.3912 - val_accuracy: 0.6324\n",
      "Epoch 71/100\n",
      "31/31 [==============================] - 2s 70ms/step - loss: 0.7989 - accuracy: 0.7306 - val_loss: 1.3595 - val_accuracy: 0.6735\n",
      "Epoch 72/100\n",
      "31/31 [==============================] - 2s 71ms/step - loss: 0.7982 - accuracy: 0.7355 - val_loss: 1.5395 - val_accuracy: 0.6441\n",
      "Epoch 73/100\n",
      "31/31 [==============================] - 2s 71ms/step - loss: 0.7290 - accuracy: 0.7584 - val_loss: 1.3355 - val_accuracy: 0.6853\n",
      "Epoch 74/100\n",
      "31/31 [==============================] - 2s 71ms/step - loss: 0.7496 - accuracy: 0.7464 - val_loss: 1.2078 - val_accuracy: 0.7059\n",
      "Epoch 75/100\n",
      "31/31 [==============================] - 2s 70ms/step - loss: 0.7571 - accuracy: 0.7358 - val_loss: 1.5738 - val_accuracy: 0.6529\n",
      "Epoch 76/100\n",
      "31/31 [==============================] - 2s 72ms/step - loss: 0.7169 - accuracy: 0.7523 - val_loss: 1.3076 - val_accuracy: 0.6676\n",
      "Epoch 77/100\n",
      "31/31 [==============================] - 2s 71ms/step - loss: 0.7046 - accuracy: 0.7507 - val_loss: 1.0908 - val_accuracy: 0.7294\n",
      "Epoch 78/100\n",
      "31/31 [==============================] - 2s 70ms/step - loss: 0.7354 - accuracy: 0.7667 - val_loss: 1.2933 - val_accuracy: 0.6853\n",
      "Epoch 79/100\n",
      "31/31 [==============================] - 2s 72ms/step - loss: 0.7505 - accuracy: 0.7430 - val_loss: 1.3123 - val_accuracy: 0.6794\n",
      "Epoch 80/100\n",
      "31/31 [==============================] - 2s 72ms/step - loss: 0.7163 - accuracy: 0.7558 - val_loss: 1.7459 - val_accuracy: 0.6324\n",
      "Epoch 81/100\n",
      "31/31 [==============================] - 2s 70ms/step - loss: 0.7300 - accuracy: 0.7513 - val_loss: 1.3067 - val_accuracy: 0.7029\n",
      "Epoch 82/100\n",
      "31/31 [==============================] - 2s 70ms/step - loss: 0.6684 - accuracy: 0.7747 - val_loss: 1.4136 - val_accuracy: 0.6559\n",
      "Epoch 83/100\n",
      "31/31 [==============================] - 2s 70ms/step - loss: 0.7326 - accuracy: 0.7626 - val_loss: 1.5021 - val_accuracy: 0.6382\n",
      "Epoch 84/100\n",
      "31/31 [==============================] - 2s 70ms/step - loss: 0.7091 - accuracy: 0.7474 - val_loss: 1.3600 - val_accuracy: 0.6853\n",
      "Epoch 85/100\n",
      "31/31 [==============================] - 2s 70ms/step - loss: 0.7070 - accuracy: 0.7749 - val_loss: 1.5501 - val_accuracy: 0.6500\n",
      "Epoch 86/100\n",
      "31/31 [==============================] - 2s 71ms/step - loss: 0.7360 - accuracy: 0.7569 - val_loss: 1.3645 - val_accuracy: 0.6882\n",
      "Epoch 87/100\n",
      "31/31 [==============================] - 2s 76ms/step - loss: 0.7433 - accuracy: 0.7555 - val_loss: 1.2605 - val_accuracy: 0.6912\n",
      "Epoch 88/100\n",
      "31/31 [==============================] - 2s 73ms/step - loss: 0.7631 - accuracy: 0.7646 - val_loss: 1.3127 - val_accuracy: 0.6853\n",
      "Epoch 89/100\n",
      "31/31 [==============================] - 2s 71ms/step - loss: 0.6553 - accuracy: 0.7860 - val_loss: 1.0998 - val_accuracy: 0.7088\n",
      "Epoch 90/100\n",
      "31/31 [==============================] - 2s 70ms/step - loss: 0.7030 - accuracy: 0.7763 - val_loss: 1.2897 - val_accuracy: 0.6971\n",
      "Epoch 91/100\n",
      "31/31 [==============================] - 2s 70ms/step - loss: 0.6244 - accuracy: 0.7917 - val_loss: 1.1224 - val_accuracy: 0.6971\n",
      "Epoch 92/100\n",
      "31/31 [==============================] - 2s 70ms/step - loss: 0.7127 - accuracy: 0.7431 - val_loss: 1.2763 - val_accuracy: 0.6971\n",
      "Epoch 93/100\n",
      "31/31 [==============================] - 2s 72ms/step - loss: 0.5428 - accuracy: 0.8152 - val_loss: 1.2045 - val_accuracy: 0.6912\n",
      "Epoch 94/100\n",
      "31/31 [==============================] - 2s 72ms/step - loss: 0.6259 - accuracy: 0.7819 - val_loss: 1.2538 - val_accuracy: 0.6912\n",
      "Epoch 95/100\n",
      "31/31 [==============================] - 2s 71ms/step - loss: 0.7292 - accuracy: 0.7635 - val_loss: 1.1663 - val_accuracy: 0.7235\n",
      "Epoch 96/100\n",
      "31/31 [==============================] - 2s 75ms/step - loss: 0.6448 - accuracy: 0.7750 - val_loss: 1.3018 - val_accuracy: 0.7059\n",
      "Epoch 97/100\n",
      "31/31 [==============================] - 2s 73ms/step - loss: 0.5975 - accuracy: 0.7989 - val_loss: 1.2676 - val_accuracy: 0.7029\n",
      "Epoch 98/100\n",
      "31/31 [==============================] - 2s 76ms/step - loss: 0.6189 - accuracy: 0.7803 - val_loss: 1.2737 - val_accuracy: 0.7000\n",
      "Epoch 99/100\n",
      "31/31 [==============================] - 2s 73ms/step - loss: 0.5934 - accuracy: 0.7881 - val_loss: 1.2023 - val_accuracy: 0.7088\n",
      "Epoch 100/100\n",
      "31/31 [==============================] - 2s 70ms/step - loss: 0.6110 - accuracy: 0.7963 - val_loss: 1.6359 - val_accuracy: 0.6588\n"
     ]
    }
   ],
   "source": [
    "epochs=100\n",
    "Z=model.fit(augmenter.flow(train_x, train_y, batch_size=32), validation_data=(test_x, test_y),\n",
    "                     steps_per_epoch=len(train_x)//32, epochs=epochs, verbose=1)"
   ]
  },
  {
   "cell_type": "markdown",
   "id": "regional-large",
   "metadata": {},
   "source": [
    "#### Running Predictions"
   ]
  },
  {
   "cell_type": "code",
   "execution_count": 12,
   "id": "numerous-title",
   "metadata": {},
   "outputs": [],
   "source": [
    "predictions=model.predict(test_x, batch_size=32)\n"
   ]
  },
  {
   "cell_type": "markdown",
   "id": "composite-character",
   "metadata": {},
   "source": [
    "#### Get Model Prediction Report"
   ]
  },
  {
   "cell_type": "code",
   "execution_count": 13,
   "id": "dirty-birmingham",
   "metadata": {},
   "outputs": [
    {
     "name": "stdout",
     "output_type": "stream",
     "text": [
      "              precision    recall  f1-score   support\n",
      "\n",
      "           0       0.38      0.33      0.36        15\n",
      "           1       0.45      0.50      0.48        20\n",
      "          10       0.95      0.74      0.83        27\n",
      "          11       0.43      0.75      0.55        20\n",
      "          12       0.68      0.94      0.79        16\n",
      "          13       0.63      0.67      0.65        18\n",
      "          14       1.00      0.22      0.36        23\n",
      "          15       0.74      0.70      0.72        20\n",
      "          16       1.00      0.58      0.73        19\n",
      "           2       1.00      0.50      0.67        18\n",
      "           3       0.79      0.68      0.73        22\n",
      "           4       0.36      1.00      0.53        20\n",
      "           5       0.75      0.65      0.70        23\n",
      "           6       0.83      0.90      0.86        21\n",
      "           7       0.69      0.48      0.56        23\n",
      "           8       0.80      0.75      0.77        16\n",
      "           9       1.00      0.84      0.91        19\n",
      "\n",
      "    accuracy                           0.66       340\n",
      "   macro avg       0.73      0.66      0.66       340\n",
      "weighted avg       0.74      0.66      0.66       340\n",
      "\n"
     ]
    }
   ],
   "source": [
    "print(classification_report(test_y.argmax(axis=1),predictions.argmax(axis=1), target_names=classes))"
   ]
  },
  {
   "cell_type": "markdown",
   "id": "practical-surname",
   "metadata": {},
   "source": [
    "#### Plot Model Training Metrics"
   ]
  },
  {
   "cell_type": "code",
   "execution_count": 14,
   "id": "oriented-chambers",
   "metadata": {},
   "outputs": [
    {
     "data": {
      "image/png": "[encoded data removed]",
      "text/plain": [
       "<Figure size 432x288 with 1 Axes>"
      ]
     },
     "metadata": {},
     "output_type": "display_data"
    }
   ],
   "source": [
    "plot_training_metrics(epochs, Z)"
   ]
  },
  {
   "cell_type": "code",
   "execution_count": null,
   "id": "changed-western",
   "metadata": {},
   "outputs": [],
   "source": []
  }
 ],
 "metadata": {
  "kernelspec": {
   "display_name": "Python 3",
   "language": "python",
   "name": "python3"
  },
  "language_info": {
   "codemirror_mode": {
    "name": "ipython",
    "version": 3
   },
   "file_extension": ".py",
   "mimetype": "text/x-python",
   "name": "python",
   "nbconvert_exporter": "python",
   "pygments_lexer": "ipython3",
   "version": "3.8.6"
  }
 },
 "nbformat": 4,
 "nbformat_minor": 5
}
