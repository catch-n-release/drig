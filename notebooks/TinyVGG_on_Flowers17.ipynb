{
 "cells": [
  {
   "cell_type": "markdown",
   "id": "instructional-hardwood",
   "metadata": {},
   "source": [
    "# Training TinyVGG on FLowers17"
   ]
  },
  {
   "cell_type": "markdown",
   "id": "pending-birmingham",
   "metadata": {},
   "source": [
    "#### Import Necessary Packages"
   ]
  },
  {
   "cell_type": "code",
   "execution_count": 2,
   "id": "stretch-intake",
   "metadata": {},
   "outputs": [],
   "source": [
    "from sklearn.metrics import classification_report\n",
    "from sklearn.model_selection import train_test_split\n",
    "from sklearn.preprocessing import LabelBinarizer\n",
    "from drig.networks.networks import TinyVGG\n",
    "from drig.preprocessors.preprocessors import ImageToArrayPreprocessor, UniformAspectPreprocessor\n",
    "from drig.datasets.datasetloader import DatasetLoader\n",
    "from keras.optimizers import SGD\n",
    "from imutils import paths\n",
    "import numpy as np\n",
    "from drig.utils import plot_training_metrics\n",
    "from drig.utils import visualize_network"
   ]
  },
  {
   "cell_type": "markdown",
   "id": "signed-butter",
   "metadata": {},
   "source": [
    "#### Load Data"
   ]
  },
  {
   "cell_type": "code",
   "execution_count": 3,
   "id": "unexpected-result",
   "metadata": {},
   "outputs": [],
   "source": [
    "image_paths=list(paths.list_images(\"/Users/suyashsrivastava/drig/datasets/17flowers/\"))\n",
    "classes=[image_path.split(\"/\")[-2] for image_path in image_paths]\n",
    "classes=[str(label) for label in np.unique(classes)]"
   ]
  },
  {
   "cell_type": "markdown",
   "id": "affiliated-lesson",
   "metadata": {},
   "source": [
    "#### Initialize Preprocessors"
   ]
  },
  {
   "cell_type": "code",
   "execution_count": 4,
   "id": "solar-stocks",
   "metadata": {},
   "outputs": [],
   "source": [
    "uniform_aspect=UniformAspectPreprocessor(64,64)\n",
    "image_to_array=ImageToArrayPreprocessor()"
   ]
  },
  {
   "cell_type": "markdown",
   "id": "genuine-position",
   "metadata": {},
   "source": [
    "#### Get Preprocessed Data & Labels"
   ]
  },
  {
   "cell_type": "code",
   "execution_count": 5,
   "id": "earned-potter",
   "metadata": {},
   "outputs": [
    {
     "name": "stdout",
     "output_type": "stream",
     "text": [
      "Processed 1360/1360 Images.\n"
     ]
    }
   ],
   "source": [
    "data_loader=DatasetLoader(preprocessors=[uniform_aspect, image_to_array])\n",
    "data, labels=data_loader.load(image_paths, verbose=1)"
   ]
  },
  {
   "cell_type": "markdown",
   "id": "blind-seattle",
   "metadata": {},
   "source": [
    "#### Normalise Data"
   ]
  },
  {
   "cell_type": "code",
   "execution_count": 6,
   "id": "horizontal-guinea",
   "metadata": {},
   "outputs": [],
   "source": [
    "data=data.astype(\"float\")/255.0"
   ]
  },
  {
   "cell_type": "markdown",
   "id": "varying-plain",
   "metadata": {},
   "source": [
    "#### Split Data Into Train & Test Set"
   ]
  },
  {
   "cell_type": "code",
   "execution_count": 7,
   "id": "gorgeous-entertainment",
   "metadata": {},
   "outputs": [],
   "source": [
    "train_x, test_x, train_y, test_y=train_test_split(data,labels, test_size=0.25, random_state=42)"
   ]
  },
  {
   "cell_type": "markdown",
   "id": "mathematical-invention",
   "metadata": {},
   "source": [
    "#### Get One-Hot Coded Labels"
   ]
  },
  {
   "cell_type": "code",
   "execution_count": 8,
   "id": "genetic-visit",
   "metadata": {},
   "outputs": [],
   "source": [
    "train_y=LabelBinarizer().fit_transform(train_y)\n",
    "test_y=LabelBinarizer().fit_transform(test_y)"
   ]
  },
  {
   "cell_type": "markdown",
   "id": "featured-mercury",
   "metadata": {},
   "source": [
    "#### Build & Compile TinyVGG Model"
   ]
  },
  {
   "cell_type": "code",
   "execution_count": 9,
   "id": "according-philadelphia",
   "metadata": {},
   "outputs": [],
   "source": [
    "opt=SGD(lr=0.05)\n",
    "model=TinyVGG.build(width=64, height=64, depth=3, classes=len(classes))\n",
    "model.compile(loss=\"categorical_crossentropy\", optimizer=opt, metrics=[\"accuracy\"])"
   ]
  },
  {
   "cell_type": "code",
   "execution_count": 10,
   "id": "differential-spanking",
   "metadata": {},
   "outputs": [
    {
     "data": {
      "image/png": "[encoded data removed]",
      "text/plain": [
       "<PIL.Image.Image image mode=RGBA size=1251x378 at 0x16842D8E0>"
      ]
     },
     "execution_count": 10,
     "metadata": {},
     "output_type": "execute_result"
    }
   ],
   "source": [
    "visualize_network(model)"
   ]
  },
  {
   "cell_type": "markdown",
   "id": "hydraulic-billion",
   "metadata": {},
   "source": [
    "#### Train Model"
   ]
  },
  {
   "cell_type": "code",
   "execution_count": 18,
   "id": "eastern-microphone",
   "metadata": {
    "collapsed": true,
    "jupyter": {
     "outputs_hidden": true
    }
   },
   "outputs": [
    {
     "name": "stdout",
     "output_type": "stream",
     "text": [
      "Epoch 1/100\n",
      "32/32 [==============================] - 3s 76ms/step - loss: 3.4903 - accuracy: 0.1502 - val_loss: 2.9966 - val_accuracy: 0.0471\n",
      "Epoch 2/100\n",
      "32/32 [==============================] - 2s 72ms/step - loss: 1.7180 - accuracy: 0.4747 - val_loss: 3.4062 - val_accuracy: 0.0471\n",
      "Epoch 3/100\n",
      "32/32 [==============================] - 2s 71ms/step - loss: 1.1902 - accuracy: 0.6081 - val_loss: 4.0090 - val_accuracy: 0.0676\n",
      "Epoch 4/100\n",
      "32/32 [==============================] - 2s 71ms/step - loss: 0.8312 - accuracy: 0.7235 - val_loss: 4.6900 - val_accuracy: 0.0676\n",
      "Epoch 5/100\n",
      "32/32 [==============================] - 2s 71ms/step - loss: 0.6759 - accuracy: 0.7923 - val_loss: 4.8362 - val_accuracy: 0.0676\n",
      "Epoch 6/100\n",
      "32/32 [==============================] - 2s 71ms/step - loss: 0.5428 - accuracy: 0.8317 - val_loss: 5.0094 - val_accuracy: 0.0676\n",
      "Epoch 7/100\n",
      "32/32 [==============================] - 2s 71ms/step - loss: 0.4140 - accuracy: 0.8606 - val_loss: 5.2186 - val_accuracy: 0.0882\n",
      "Epoch 8/100\n",
      "32/32 [==============================] - 2s 71ms/step - loss: 0.2893 - accuracy: 0.9021 - val_loss: 5.1987 - val_accuracy: 0.1000\n",
      "Epoch 9/100\n",
      "32/32 [==============================] - 2s 72ms/step - loss: 0.2511 - accuracy: 0.9203 - val_loss: 4.0264 - val_accuracy: 0.1676\n",
      "Epoch 10/100\n",
      "32/32 [==============================] - 2s 73ms/step - loss: 0.2282 - accuracy: 0.9321 - val_loss: 3.8571 - val_accuracy: 0.1853\n",
      "Epoch 11/100\n",
      "32/32 [==============================] - 2s 71ms/step - loss: 0.1592 - accuracy: 0.9541 - val_loss: 3.6168 - val_accuracy: 0.2000\n",
      "Epoch 12/100\n",
      "32/32 [==============================] - 2s 71ms/step - loss: 0.1484 - accuracy: 0.9568 - val_loss: 3.4144 - val_accuracy: 0.2471\n",
      "Epoch 13/100\n",
      "32/32 [==============================] - 2s 72ms/step - loss: 0.1261 - accuracy: 0.9711 - val_loss: 2.8372 - val_accuracy: 0.3235\n",
      "Epoch 14/100\n",
      "32/32 [==============================] - 2s 71ms/step - loss: 0.1219 - accuracy: 0.9622 - val_loss: 2.8119 - val_accuracy: 0.3294\n",
      "Epoch 15/100\n",
      "32/32 [==============================] - 2s 71ms/step - loss: 0.1002 - accuracy: 0.9832 - val_loss: 2.4607 - val_accuracy: 0.3765\n",
      "Epoch 16/100\n",
      "32/32 [==============================] - 2s 71ms/step - loss: 0.0912 - accuracy: 0.9735 - val_loss: 2.4329 - val_accuracy: 0.4059\n",
      "Epoch 17/100\n",
      "32/32 [==============================] - 2s 71ms/step - loss: 0.0883 - accuracy: 0.9816 - val_loss: 2.1613 - val_accuracy: 0.4765\n",
      "Epoch 18/100\n",
      "32/32 [==============================] - 2s 72ms/step - loss: 0.0633 - accuracy: 0.9875 - val_loss: 2.1570 - val_accuracy: 0.4618\n",
      "Epoch 19/100\n",
      "32/32 [==============================] - 2s 71ms/step - loss: 0.0801 - accuracy: 0.9841 - val_loss: 1.9063 - val_accuracy: 0.5265\n",
      "Epoch 20/100\n",
      "32/32 [==============================] - 2s 72ms/step - loss: 0.0631 - accuracy: 0.9862 - val_loss: 1.8439 - val_accuracy: 0.5529\n",
      "Epoch 21/100\n",
      "32/32 [==============================] - 2s 72ms/step - loss: 0.0742 - accuracy: 0.9844 - val_loss: 1.8738 - val_accuracy: 0.5588\n",
      "Epoch 22/100\n",
      "32/32 [==============================] - 2s 72ms/step - loss: 0.0569 - accuracy: 0.9882 - val_loss: 1.7865 - val_accuracy: 0.5765\n",
      "Epoch 23/100\n",
      "32/32 [==============================] - 2s 72ms/step - loss: 0.0582 - accuracy: 0.9865 - val_loss: 1.8298 - val_accuracy: 0.5735\n",
      "Epoch 24/100\n",
      "32/32 [==============================] - 2s 72ms/step - loss: 0.0448 - accuracy: 0.9891 - val_loss: 1.7688 - val_accuracy: 0.5824\n",
      "Epoch 25/100\n",
      "32/32 [==============================] - 2s 71ms/step - loss: 0.0564 - accuracy: 0.9870 - val_loss: 2.0484 - val_accuracy: 0.5441\n",
      "Epoch 26/100\n",
      "32/32 [==============================] - 2s 72ms/step - loss: 0.0390 - accuracy: 0.9921 - val_loss: 1.8895 - val_accuracy: 0.5706\n",
      "Epoch 27/100\n",
      "32/32 [==============================] - 2s 72ms/step - loss: 0.0397 - accuracy: 0.9895 - val_loss: 1.8017 - val_accuracy: 0.6000\n",
      "Epoch 28/100\n",
      "32/32 [==============================] - 2s 72ms/step - loss: 0.0443 - accuracy: 0.9907 - val_loss: 1.8199 - val_accuracy: 0.6059\n",
      "Epoch 29/100\n",
      "32/32 [==============================] - 2s 71ms/step - loss: 0.0319 - accuracy: 0.9940 - val_loss: 1.8756 - val_accuracy: 0.5824\n",
      "Epoch 30/100\n",
      "32/32 [==============================] - 2s 71ms/step - loss: 0.0199 - accuracy: 0.9975 - val_loss: 1.8552 - val_accuracy: 0.5912\n",
      "Epoch 31/100\n",
      "32/32 [==============================] - 2s 72ms/step - loss: 0.0272 - accuracy: 0.9953 - val_loss: 1.8634 - val_accuracy: 0.6000\n",
      "Epoch 32/100\n",
      "32/32 [==============================] - 2s 72ms/step - loss: 0.0321 - accuracy: 0.9929 - val_loss: 1.9632 - val_accuracy: 0.5971\n",
      "Epoch 33/100\n",
      "32/32 [==============================] - 2s 72ms/step - loss: 0.0295 - accuracy: 0.9963 - val_loss: 1.9460 - val_accuracy: 0.5794\n",
      "Epoch 34/100\n",
      "32/32 [==============================] - 2s 72ms/step - loss: 0.0279 - accuracy: 0.9960 - val_loss: 1.9554 - val_accuracy: 0.5794\n",
      "Epoch 35/100\n",
      "32/32 [==============================] - 2s 72ms/step - loss: 0.0253 - accuracy: 0.9926 - val_loss: 1.9593 - val_accuracy: 0.5824\n",
      "Epoch 36/100\n",
      "32/32 [==============================] - 2s 72ms/step - loss: 0.0174 - accuracy: 0.9977 - val_loss: 1.8530 - val_accuracy: 0.6088\n",
      "Epoch 37/100\n",
      "32/32 [==============================] - 2s 72ms/step - loss: 0.0179 - accuracy: 0.9992 - val_loss: 1.9034 - val_accuracy: 0.5941\n",
      "Epoch 38/100\n",
      "32/32 [==============================] - 2s 72ms/step - loss: 0.0209 - accuracy: 0.9956 - val_loss: 1.9797 - val_accuracy: 0.5853\n",
      "Epoch 39/100\n",
      "32/32 [==============================] - 2s 72ms/step - loss: 0.0183 - accuracy: 0.9977 - val_loss: 2.0190 - val_accuracy: 0.5824\n",
      "Epoch 40/100\n",
      "32/32 [==============================] - 2s 72ms/step - loss: 0.0184 - accuracy: 0.9979 - val_loss: 2.0206 - val_accuracy: 0.5706\n",
      "Epoch 41/100\n",
      "32/32 [==============================] - 2s 75ms/step - loss: 0.0162 - accuracy: 0.9983 - val_loss: 1.9215 - val_accuracy: 0.5971\n",
      "Epoch 42/100\n",
      "32/32 [==============================] - 2s 73ms/step - loss: 0.0188 - accuracy: 0.9982 - val_loss: 1.9836 - val_accuracy: 0.5824\n",
      "Epoch 43/100\n",
      "32/32 [==============================] - 2s 72ms/step - loss: 0.0212 - accuracy: 0.9944 - val_loss: 2.0734 - val_accuracy: 0.5824\n",
      "Epoch 44/100\n",
      "32/32 [==============================] - 2s 72ms/step - loss: 0.0173 - accuracy: 0.9956 - val_loss: 2.0101 - val_accuracy: 0.5912\n",
      "Epoch 45/100\n",
      "32/32 [==============================] - 2s 72ms/step - loss: 0.0136 - accuracy: 0.9972 - val_loss: 2.0153 - val_accuracy: 0.6000\n",
      "Epoch 46/100\n",
      "32/32 [==============================] - 2s 72ms/step - loss: 0.0153 - accuracy: 0.9973 - val_loss: 1.9431 - val_accuracy: 0.5941\n",
      "Epoch 47/100\n",
      "32/32 [==============================] - 2s 72ms/step - loss: 0.0188 - accuracy: 0.9969 - val_loss: 1.9311 - val_accuracy: 0.6029\n",
      "Epoch 48/100\n",
      "32/32 [==============================] - 2s 72ms/step - loss: 0.0233 - accuracy: 0.9918 - val_loss: 2.0942 - val_accuracy: 0.5559\n",
      "Epoch 49/100\n",
      "32/32 [==============================] - 2s 72ms/step - loss: 0.0110 - accuracy: 1.0000 - val_loss: 1.9981 - val_accuracy: 0.5941\n",
      "Epoch 50/100\n",
      "32/32 [==============================] - 2s 72ms/step - loss: 0.0156 - accuracy: 0.9990 - val_loss: 2.0090 - val_accuracy: 0.5824\n",
      "Epoch 51/100\n",
      "32/32 [==============================] - 2s 72ms/step - loss: 0.0123 - accuracy: 0.9982 - val_loss: 2.0434 - val_accuracy: 0.5794\n",
      "Epoch 52/100\n",
      "32/32 [==============================] - 2s 72ms/step - loss: 0.0172 - accuracy: 0.9942 - val_loss: 2.0362 - val_accuracy: 0.5676\n",
      "Epoch 53/100\n",
      "32/32 [==============================] - 2s 73ms/step - loss: 0.0109 - accuracy: 0.9972 - val_loss: 2.0559 - val_accuracy: 0.5765\n",
      "Epoch 54/100\n",
      "32/32 [==============================] - 2s 72ms/step - loss: 0.0153 - accuracy: 0.9979 - val_loss: 2.2228 - val_accuracy: 0.5588\n",
      "Epoch 55/100\n",
      "32/32 [==============================] - 2s 72ms/step - loss: 0.0154 - accuracy: 0.9988 - val_loss: 2.1038 - val_accuracy: 0.5765\n",
      "Epoch 56/100\n",
      "32/32 [==============================] - 2s 72ms/step - loss: 0.0123 - accuracy: 0.9990 - val_loss: 2.1658 - val_accuracy: 0.5676\n",
      "Epoch 57/100\n",
      "32/32 [==============================] - 2s 72ms/step - loss: 0.0126 - accuracy: 0.9970 - val_loss: 2.1030 - val_accuracy: 0.5765\n",
      "Epoch 58/100\n",
      "32/32 [==============================] - 2s 72ms/step - loss: 0.0151 - accuracy: 0.9953 - val_loss: 1.9706 - val_accuracy: 0.5941\n",
      "Epoch 59/100\n",
      "32/32 [==============================] - 2s 72ms/step - loss: 0.0210 - accuracy: 0.9932 - val_loss: 1.9872 - val_accuracy: 0.6088\n",
      "Epoch 60/100\n",
      "32/32 [==============================] - 2s 72ms/step - loss: 0.0196 - accuracy: 0.9941 - val_loss: 2.0034 - val_accuracy: 0.5971\n",
      "Epoch 61/100\n",
      "32/32 [==============================] - 2s 73ms/step - loss: 0.0097 - accuracy: 0.9990 - val_loss: 2.0273 - val_accuracy: 0.6000\n",
      "Epoch 62/100\n",
      "32/32 [==============================] - 2s 74ms/step - loss: 0.0083 - accuracy: 1.0000 - val_loss: 2.0680 - val_accuracy: 0.5941\n",
      "Epoch 63/100\n",
      "32/32 [==============================] - 2s 73ms/step - loss: 0.0105 - accuracy: 0.9979 - val_loss: 2.0978 - val_accuracy: 0.6029\n",
      "Epoch 64/100\n",
      "32/32 [==============================] - 2s 73ms/step - loss: 0.0164 - accuracy: 0.9979 - val_loss: 2.1147 - val_accuracy: 0.6029\n",
      "Epoch 65/100\n",
      "32/32 [==============================] - 2s 72ms/step - loss: 0.0088 - accuracy: 1.0000 - val_loss: 2.0889 - val_accuracy: 0.5941\n",
      "Epoch 66/100\n",
      "32/32 [==============================] - 2s 73ms/step - loss: 0.0127 - accuracy: 0.9975 - val_loss: 2.0479 - val_accuracy: 0.6029\n",
      "Epoch 67/100\n",
      "32/32 [==============================] - 2s 72ms/step - loss: 0.0121 - accuracy: 0.9988 - val_loss: 2.0995 - val_accuracy: 0.5882\n",
      "Epoch 68/100\n",
      "32/32 [==============================] - 2s 72ms/step - loss: 0.0089 - accuracy: 0.9997 - val_loss: 2.0437 - val_accuracy: 0.6029\n",
      "Epoch 69/100\n",
      "32/32 [==============================] - 2s 72ms/step - loss: 0.0085 - accuracy: 1.0000 - val_loss: 2.0672 - val_accuracy: 0.6000\n",
      "Epoch 70/100\n",
      "32/32 [==============================] - 2s 72ms/step - loss: 0.0096 - accuracy: 0.9997 - val_loss: 2.0704 - val_accuracy: 0.6029\n",
      "Epoch 71/100\n",
      "32/32 [==============================] - 2s 72ms/step - loss: 0.0096 - accuracy: 0.9988 - val_loss: 2.1132 - val_accuracy: 0.5971\n",
      "Epoch 72/100\n",
      "32/32 [==============================] - 2s 73ms/step - loss: 0.0149 - accuracy: 0.9971 - val_loss: 2.1009 - val_accuracy: 0.5941\n",
      "Epoch 73/100\n",
      "32/32 [==============================] - 2s 73ms/step - loss: 0.0086 - accuracy: 0.9984 - val_loss: 2.1672 - val_accuracy: 0.5824\n",
      "Epoch 74/100\n",
      "32/32 [==============================] - 2s 72ms/step - loss: 0.0122 - accuracy: 0.9965 - val_loss: 2.1339 - val_accuracy: 0.5735\n",
      "Epoch 75/100\n",
      "32/32 [==============================] - 2s 73ms/step - loss: 0.0108 - accuracy: 0.9978 - val_loss: 2.3206 - val_accuracy: 0.5618\n",
      "Epoch 76/100\n",
      "32/32 [==============================] - 2s 73ms/step - loss: 0.0123 - accuracy: 0.9979 - val_loss: 2.1605 - val_accuracy: 0.5853\n",
      "Epoch 77/100\n",
      "32/32 [==============================] - 2s 72ms/step - loss: 0.0088 - accuracy: 0.9971 - val_loss: 2.2417 - val_accuracy: 0.5853\n",
      "Epoch 78/100\n",
      "32/32 [==============================] - 2s 72ms/step - loss: 0.0055 - accuracy: 1.0000 - val_loss: 2.1816 - val_accuracy: 0.5912\n",
      "Epoch 79/100\n",
      "32/32 [==============================] - 2s 73ms/step - loss: 0.0092 - accuracy: 0.9987 - val_loss: 2.1448 - val_accuracy: 0.5971\n",
      "Epoch 80/100\n",
      "32/32 [==============================] - 2s 72ms/step - loss: 0.0098 - accuracy: 0.9983 - val_loss: 2.1033 - val_accuracy: 0.5941\n",
      "Epoch 81/100\n",
      "32/32 [==============================] - 2s 72ms/step - loss: 0.0143 - accuracy: 0.9974 - val_loss: 2.1967 - val_accuracy: 0.5912\n",
      "Epoch 82/100\n",
      "32/32 [==============================] - 2s 73ms/step - loss: 0.0078 - accuracy: 0.9996 - val_loss: 2.1849 - val_accuracy: 0.5765\n",
      "Epoch 83/100\n",
      "32/32 [==============================] - 2s 73ms/step - loss: 0.0135 - accuracy: 0.9952 - val_loss: 2.1398 - val_accuracy: 0.5824\n",
      "Epoch 84/100\n",
      "32/32 [==============================] - 2s 73ms/step - loss: 0.0090 - accuracy: 0.9996 - val_loss: 2.1795 - val_accuracy: 0.5647\n",
      "Epoch 85/100\n",
      "32/32 [==============================] - 2s 73ms/step - loss: 0.0126 - accuracy: 0.9971 - val_loss: 2.1578 - val_accuracy: 0.5676\n",
      "Epoch 86/100\n",
      "32/32 [==============================] - 2s 72ms/step - loss: 0.0146 - accuracy: 0.9967 - val_loss: 2.0655 - val_accuracy: 0.5941\n",
      "Epoch 87/100\n",
      "32/32 [==============================] - 2s 73ms/step - loss: 0.0086 - accuracy: 0.9984 - val_loss: 2.1111 - val_accuracy: 0.5853\n",
      "Epoch 88/100\n",
      "32/32 [==============================] - 2s 73ms/step - loss: 0.0077 - accuracy: 0.9981 - val_loss: 2.1047 - val_accuracy: 0.5853\n",
      "Epoch 89/100\n",
      "32/32 [==============================] - 2s 73ms/step - loss: 0.0105 - accuracy: 0.9981 - val_loss: 2.1077 - val_accuracy: 0.6000\n",
      "Epoch 90/100\n",
      "32/32 [==============================] - 2s 72ms/step - loss: 0.0058 - accuracy: 0.9988 - val_loss: 2.1122 - val_accuracy: 0.5853\n",
      "Epoch 91/100\n",
      "32/32 [==============================] - 2s 73ms/step - loss: 0.0109 - accuracy: 0.9986 - val_loss: 2.0692 - val_accuracy: 0.6029\n",
      "Epoch 92/100\n",
      "32/32 [==============================] - 2s 73ms/step - loss: 0.0058 - accuracy: 1.0000 - val_loss: 2.0984 - val_accuracy: 0.5912\n",
      "Epoch 93/100\n",
      "32/32 [==============================] - 2s 72ms/step - loss: 0.0047 - accuracy: 1.0000 - val_loss: 2.1005 - val_accuracy: 0.5941\n",
      "Epoch 94/100\n",
      "32/32 [==============================] - 2s 72ms/step - loss: 0.0058 - accuracy: 1.0000 - val_loss: 2.0806 - val_accuracy: 0.5941\n",
      "Epoch 95/100\n",
      "32/32 [==============================] - 2s 72ms/step - loss: 0.0077 - accuracy: 0.9989 - val_loss: 2.1239 - val_accuracy: 0.5794\n",
      "Epoch 96/100\n",
      "32/32 [==============================] - 2s 73ms/step - loss: 0.0124 - accuracy: 0.9952 - val_loss: 2.2060 - val_accuracy: 0.5588\n",
      "Epoch 97/100\n",
      "32/32 [==============================] - 2s 73ms/step - loss: 0.0053 - accuracy: 1.0000 - val_loss: 2.2181 - val_accuracy: 0.5588\n",
      "Epoch 98/100\n",
      "32/32 [==============================] - 2s 73ms/step - loss: 0.0036 - accuracy: 1.0000 - val_loss: 2.1679 - val_accuracy: 0.5735\n",
      "Epoch 99/100\n",
      "32/32 [==============================] - 2s 73ms/step - loss: 0.0044 - accuracy: 0.9997 - val_loss: 2.1536 - val_accuracy: 0.5794\n",
      "Epoch 100/100\n",
      "32/32 [==============================] - 2s 70ms/step - loss: 0.0033 - accuracy: 1.0000 - val_loss: 2.1109 - val_accuracy: 0.5882\n"
     ]
    }
   ],
   "source": [
    "epochs=100\n",
    "Z=model.fit(train_x, train_y, validation_data=(test_x, test_y), epochs=epochs, batch_size=32, verbose=1)"
   ]
  },
  {
   "cell_type": "markdown",
   "id": "qualified-watershed",
   "metadata": {},
   "source": [
    "#### Run Predictions"
   ]
  },
  {
   "cell_type": "code",
   "execution_count": null,
   "id": "conditional-brisbane",
   "metadata": {},
   "outputs": [
    {
     "name": "stdout",
     "output_type": "stream",
     "text": [
      "              precision    recall  f1-score   support\n",
      "\n",
      "           0       0.28      0.33      0.30        15\n",
      "           1       0.53      0.40      0.46        20\n",
      "          10       0.77      0.74      0.75        27\n",
      "          11       0.50      0.50      0.50        20\n",
      "          12       0.61      0.88      0.72        16\n",
      "          13       0.33      0.44      0.38        18\n",
      "          14       0.74      0.74      0.74        23\n",
      "          15       0.82      0.45      0.58        20\n",
      "          16       0.63      0.63      0.63        19\n",
      "           2       0.62      0.44      0.52        18\n",
      "           3       0.61      0.64      0.62        22\n",
      "           4       0.56      0.70      0.62        20\n",
      "           5       0.89      0.70      0.78        23\n",
      "           6       0.83      0.48      0.61        21\n",
      "           7       0.25      0.39      0.31        23\n",
      "           8       0.53      0.56      0.55        16\n",
      "           9       1.00      0.89      0.94        19\n",
      "\n",
      "    accuracy                           0.59       340\n",
      "   macro avg       0.62      0.58      0.59       340\n",
      "weighted avg       0.63      0.59      0.60       340\n",
      "\n"
     ]
    }
   ],
   "source": [
    "predictions=model.predict(test_x, batch_size=32)\n",
    "print(classification_report(test_y.argmax(axis=1), predictions.argmax(axis=1), target_names=classes))"
   ]
  },
  {
   "cell_type": "markdown",
   "id": "appreciated-greenhouse",
   "metadata": {},
   "source": [
    "#### Plot Model Training Metrics"
   ]
  },
  {
   "cell_type": "code",
   "execution_count": null,
   "id": "damaged-arabic",
   "metadata": {},
   "outputs": [
    {
     "data": {
      "image/png": "[encoded data removed]",
      "text/plain": [
       "<Figure size 432x288 with 1 Axes>"
      ]
     },
     "metadata": {},
     "output_type": "display_data"
    }
   ],
   "source": [
    "plot_training_metrics(epochs,Z)"
   ]
  },
  {
   "cell_type": "markdown",
   "id": "blank-canon",
   "metadata": {},
   "source": []
  },
  {
   "cell_type": "code",
   "execution_count": null,
   "id": "signed-fortune",
   "metadata": {},
   "outputs": [],
   "source": []
  }
 ],
 "metadata": {
  "kernelspec": {
   "display_name": "Python 3",
   "language": "python",
   "name": "python3"
  },
  "language_info": {
   "codemirror_mode": {
    "name": "ipython",
    "version": 3
   },
   "file_extension": ".py",
   "mimetype": "text/x-python",
   "name": "python",
   "nbconvert_exporter": "python",
   "pygments_lexer": "ipython3",
   "version": "3.8.6"
  }
 },
 "nbformat": 4,
 "nbformat_minor": 5
}
